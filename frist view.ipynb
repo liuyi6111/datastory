{
 "cells": [
  {
   "cell_type": "markdown",
   "id": "c5566775",
   "metadata": {},
   "source": [
    "&emsp;&emsp;最初面对数据，也许有人会茫然不知如何下手，就像面对一个心仪的异性又不知该如何鼓起勇气去交流一样。看到很多人生硬地直接拿着原始数据往模型里塞，然后拼命调参，跑出一个不知所云的结果——就像看到一个腼腆的人拿着速成的情感宝典，全然不顾一脸无语的对方，只按着书上的套路一句话一句话地搭讪，真是人间惨剧啊。    \n",
    "&emsp;&emsp;所以，我希望，能够有一个课程，能够带着大家理解数据，了解数据的特性，知道什么样的数据应该使用什么样的处理方式，才能更好地分析、更好地建模，真正找出数据背后的规律。就像谈恋爱的时候，需要去理解对方的性格，知道不同性格的人要用怎样的方式去沟通，才能更加坚定愉快地走下去吧。"
   ]
  },
  {
   "cell_type": "markdown",
   "id": "4e73190e",
   "metadata": {},
   "source": [
    "## 1 初步认识数据\n",
    "### 1.1 简单统计（数据类型，缺失值，统计值，数据分布）"
   ]
  },
  {
   "cell_type": "markdown",
   "id": "da26b821",
   "metadata": {},
   "source": [
    "&emsp;&emsp;首先导入库文件。后面所有的数据操作，我们都默认使用pandas库的dataframe格式来进行数据的加载、查看和操作。"
   ]
  },
  {
   "cell_type": "code",
   "execution_count": 3,
   "id": "643db3b3",
   "metadata": {},
   "outputs": [],
   "source": [
    "import numpy as np\n",
    "import pandas as pd"
   ]
  },
  {
   "cell_type": "markdown",
   "id": "aa600ca8",
   "metadata": {},
   "source": [
    "&emsp;&emsp;想快速了解一个人，可能往往是从ta的统计数据（姓名、性别、年龄、学历、工作经历等等）开始。那么，对于数据也是一样。无论是使用算法进行数据挖掘，还是探索数据进行经营分析，加载一个数据集之后，我们首先需要做的，都是查看数据集的统计数据。    \n",
    "&emsp;&emsp;这里我们使用经典的泰坦尼克数据集来开始数据探索之旅。"
   ]
  },
  {
   "cell_type": "code",
   "execution_count": 12,
   "id": "4f9240d3",
   "metadata": {},
   "outputs": [
    {
     "name": "stdout",
     "output_type": "stream",
     "text": [
      "<class 'pandas.core.frame.DataFrame'>\n",
      "RangeIndex: 891 entries, 0 to 890\n",
      "Data columns (total 12 columns):\n",
      " #   Column  Non-Null Count  Dtype  \n",
      "---  ------  --------------  -----  \n",
      " 0   乘客ID    891 non-null    int64  \n",
      " 1   是否幸存    891 non-null    int64  \n",
      " 2   仓位等级    891 non-null    int64  \n",
      " 3   姓名      891 non-null    object \n",
      " 4   性别      891 non-null    object \n",
      " 5   年龄      714 non-null    float64\n",
      " 6   兄弟姐妹个数  891 non-null    int64  \n",
      " 7   父母子女个数  891 non-null    int64  \n",
      " 8   船票信息    891 non-null    object \n",
      " 9   票价      891 non-null    float64\n",
      " 10  客舱      204 non-null    object \n",
      " 11  登船港口    889 non-null    object \n",
      "dtypes: float64(2), int64(5), object(5)\n",
      "memory usage: 83.7+ KB\n"
     ]
    }
   ],
   "source": [
    "df = pd.read_csv('train_chinese.csv')\n",
    "df.info()"
   ]
  },
  {
   "cell_type": "markdown",
   "id": "62bea62e",
   "metadata": {},
   "source": [
    "&emsp;&emsp;从info可以看出：    \n",
    "+ 这个数据集共有891行12列，年龄、客舱、登船港口三列的数值有缺失。    \n",
    "+ “登船港口”缺失较少，可以考虑填补；    \n",
    "+ “年龄”不容易依靠其它信息来填补，可以暂时不处理缺失或者把缺失作为单独的一类；    \n",
    "+ “客舱”数据较少，也许可以分类也许可以直接删去，需要等下一步继续观察。    \n",
    "+ “是否幸存”是使用整型数值来表示的，可能是0和1。    \n",
    "+ 其它数据的类型都正常，没有出现应该是数值却显示为object的（这通常表示数据中有异常符号）    \n",
    "+ “年龄”类型为float64，因为其中有缺失值，pandas默认缺失值为浮点型。"
   ]
  },
  {
   "cell_type": "markdown",
   "id": "519e95fa",
   "metadata": {},
   "source": [
    "&emsp;&emsp;info函数的官方参数详解见https://pandas.pydata.org/pandas-docs/stable/reference/api/pandas.DataFrame.info.html#pandas.DataFrame.info  "
   ]
  },
  {
   "cell_type": "markdown",
   "id": "02ecb565",
   "metadata": {},
   "source": [
    "|\tParameters\t|\tValue\t|    \n",
    "|\t------\t|\t------\t|    \n",
    "|\tverbose：bool, optional\t|\t“verbose”中文译为“冗长的”，该参数决定是否打印完整的摘要。如果为True，显示所有列的信息；如果为False，那么会省略一部分。**默认情况下，**遵循pandas.options.display.max_info_columns中的设置。\t|    \n",
    "|\tbuf：writable buffer, defaults to sys.stdout\t|\t该参数决定将输出发送到哪里。默认情况下， 输出打印到sys.stdout。如果需要进一步处理输出，请传递可写缓冲区。可将DataFrame.info()存储为变量。\t|    \n",
    "|\tmax_col：sint, optional\t|\t该参数使得从“详细输出”转换为“缩减输出”，如果DataFrame的列数超过max_cols，则缩减输出。默认情况下， 使用pandas.options.display.max_info_columns中的设置。\t|    \n",
    "|\tmemory_usage：bool, str, optional\t|\t该参数决定是否应显示DataFrame元素（包括索引）的总内存使用情况。默认情况下为True。 True始终显示内存使用情况；False永远不会显示内存使用情况。\t|    \n",
    "|\tnull_counts：bool, optional\t|\t该参数决定是否显示非空计数。值为True始终显示计数，而值为False则不显示计数。默认情况下， 仅当Dataframe小于pandas.options.display.max_info_rows和pandas.options.display.max_info_columns时才显示。\t|"
   ]
  },
  {
   "cell_type": "code",
   "execution_count": null,
   "id": "5d057e8b",
   "metadata": {},
   "outputs": [],
   "source": []
  }
 ],
 "metadata": {
  "kernelspec": {
   "display_name": "Python 3 (ipykernel)",
   "language": "python",
   "name": "python3"
  },
  "language_info": {
   "codemirror_mode": {
    "name": "ipython",
    "version": 3
   },
   "file_extension": ".py",
   "mimetype": "text/x-python",
   "name": "python",
   "nbconvert_exporter": "python",
   "pygments_lexer": "ipython3",
   "version": "3.9.12"
  }
 },
 "nbformat": 4,
 "nbformat_minor": 5
}
